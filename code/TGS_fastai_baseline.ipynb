{
  "cells": [
    {
      "metadata": {
        "_uuid": "5f30d4f9fca0ac71156508dcb76e384d56fdb97e"
      },
      "cell_type": "markdown",
      "source": "# Baseline"
    },
    {
      "metadata": {
        "_cell_guid": "b1076dfc-b9ad-4769-8c92-a6c4dae69d19",
        "_uuid": "8f2839f25d086af736a60e9eeb907d3b93b6e0e5",
        "trusted": true,
        "collapsed": true
      },
      "cell_type": "code",
      "source": "import numpy as np\nimport pandas as pd\n\nfrom keras.preprocessing.image import load_img\nfrom keras import Model\nfrom keras.callbacks import EarlyStopping, ModelCheckpoint, ReduceLROnPlateau\nfrom keras.models import load_model\nfrom keras.optimizers import Adam\nfrom keras.utils.vis_utils import plot_model\nfrom keras.preprocessing.image import ImageDataGenerator\nfrom keras.layers import Input, Conv2D, Conv2DTranspose, MaxPooling2D, concatenate, Dropout\n\nfrom random import randint\n\nimport matplotlib.pyplot as plt\nplt.style.use('seaborn-white')\nimport seaborn as sns\nsns.set_style(\"white\")\n\nfrom sklearn.model_selection import train_test_split\nfrom skimage.transform import resize\n\nfrom tqdm import tqdm_notebook\n\nfrom fastai.conv_learner import *\nfrom fastai.dataset import *\n#from fastai.models.resnet import vgg_resnet50\n\nimport json\n\nfrom fastai.imports import *\nfrom fastai.transforms import *\nfrom fastai.conv_learner import *\nfrom fastai.model import *\nfrom fastai.dataset import *\nfrom fastai.sgdr import *\nfrom fastai.plots import *\n\nfrom pathlib import Path\n",
      "execution_count": null,
      "outputs": []
    },
    {
      "metadata": {
        "trusted": true,
        "_uuid": "7b4018a7d9f051b0d28f869f3e28551d5979db85",
        "collapsed": true
      },
      "cell_type": "code",
      "source": "torch.cuda.is_available()",
      "execution_count": null,
      "outputs": []
    },
    {
      "metadata": {
        "trusted": true,
        "_uuid": "36a39ace611cd55c1a7ec614d7b8379b1ad6f33d",
        "collapsed": true
      },
      "cell_type": "code",
      "source": "torch.backends.cudnn.enabled",
      "execution_count": null,
      "outputs": []
    },
    {
      "metadata": {
        "_uuid": "95f4bff66116d9bbf3a6a0b14e8fe5083fc371cb",
        "collapsed": true,
        "trusted": true
      },
      "cell_type": "code",
      "source": "def show_img(im, figsize=None, ax=None, alpha=None):\n    if not ax: fig,ax = plt.subplots(figsize=figsize)\n    ax.imshow(im, alpha=alpha)\n    ax.set_axis_off()\n    return ax",
      "execution_count": null,
      "outputs": []
    },
    {
      "metadata": {
        "_uuid": "e4a44face5fb84dbaceccd61e0561554a2cca242",
        "trusted": true,
        "collapsed": true
      },
      "cell_type": "code",
      "source": "PATH = Path(\"..\")\nMASKS_FN = \"train.csv\"\nMETA_FN = \"depths.csv\"\nmasks_csv = pd.read_csv(\"../input/tgs-salt-identification-challenge/train.csv\")\nmeta_csv = pd.read_csv(\"../input/tgs-salt-identification-challenge/train.csv\") #un-used",
      "execution_count": null,
      "outputs": []
    },
    {
      "metadata": {
        "_uuid": "fc4b3a6898285b34e5d8f1a55dc4009292b85769",
        "collapsed": true,
        "trusted": true
      },
      "cell_type": "code",
      "source": "def show_img(im, figsize=None, ax=None, alpha=None):\n    if not ax: fig,ax = plt.subplots(figsize=figsize)\n    ax.imshow(im, alpha=alpha)\n    ax.set_axis_off()\n    return ax",
      "execution_count": null,
      "outputs": []
    },
    {
      "metadata": {
        "_uuid": "c3852dc8330910b29a88aae256ae470a4d48ef91",
        "collapsed": true,
        "trusted": true
      },
      "cell_type": "code",
      "source": "TRAIN_DN = 'input/tgs-salt-identification-challenge/train/images'\nMASKS_DN = 'input/tgs-salt-identification-challenge/train/masks'\nsz = 128\nbs = 64\nnw = 16\n",
      "execution_count": null,
      "outputs": []
    },
    {
      "metadata": {
        "_uuid": "45c796d132e2d54eddd8625fb7bed99936bb7f5e",
        "collapsed": true,
        "trusted": true
      },
      "cell_type": "code",
      "source": "class MatchedFilesDataset(FilesDataset):\n    def __init__(self, fnames, y, transform, path):\n        self.y=y\n        assert(len(fnames)==len(y))\n        super().__init__(fnames, transform, path)\n    def get_y(self, i): return open_image(os.path.join(self.path, self.y[i]))\n    def get_c(self): return 0\n\n    ",
      "execution_count": null,
      "outputs": []
    },
    {
      "metadata": {
        "_uuid": "071c184b65f70c5b3a9db6c28bd4178d81155957",
        "collapsed": true,
        "trusted": true
      },
      "cell_type": "code",
      "source": "x_names = np.array([Path(TRAIN_DN)/f'{o}.png' for o in masks_csv['id']])\ny_names = np.array([Path(MASKS_DN)/f'{o}.png' for o in masks_csv['id']])",
      "execution_count": null,
      "outputs": []
    },
    {
      "metadata": {
        "_uuid": "60daef5292b5f9d0123305d3bd239f0275fab520",
        "trusted": true,
        "collapsed": true
      },
      "cell_type": "code",
      "source": "val_idxs = list(range(1)) # 1008\n((val_x,trn_x),(val_y,trn_y)) = split_by_idx(val_idxs, x_names, y_names)",
      "execution_count": null,
      "outputs": []
    },
    {
      "metadata": {
        "_uuid": "cda1223eb2ca7b53d096f26e5667bf98188e7720",
        "collapsed": true,
        "trusted": true
      },
      "cell_type": "code",
      "source": "aug_tfms = [RandomRotate(4, tfm_y=TfmType.CLASS),\n            RandomFlip(tfm_y=TfmType.CLASS),\n            RandomLighting(0.05, 0.05, tfm_y=TfmType.CLASS)]",
      "execution_count": null,
      "outputs": []
    },
    {
      "metadata": {
        "trusted": true,
        "_uuid": "a5da340c8013702b9c87765111fef7275aa099fa",
        "collapsed": true
      },
      "cell_type": "code",
      "source": "folder = \"../input/tgs-salt-identification-challenge/test/images\"\nonlyfiles = [f for f in os.listdir(folder) if os.path.isfile(os.path.join(folder, f))]\ntestfile_name = pd.DataFrame({'img':onlyfiles})\nprint(len(onlyfiles))",
      "execution_count": null,
      "outputs": []
    },
    {
      "metadata": {
        "trusted": true,
        "_uuid": "ae7eaf087d2684578536519964e830edca48670f",
        "collapsed": true
      },
      "cell_type": "code",
      "source": "TEST_DN = 'input/tgs-salt-identification-challenge/test/images'\nt_names = np.array([Path(TEST_DN)/f'{o}' for o in testfile_name[\"img\"]])\ntest_name = (t_names ,t_names)",
      "execution_count": null,
      "outputs": []
    },
    {
      "metadata": {
        "_uuid": "834d3bbca39940481961c2e3c23e72de52cd31fc",
        "trusted": true,
        "collapsed": true
      },
      "cell_type": "code",
      "source": "tfms = tfms_from_model(resnet34, sz, crop_type=CropType.NO, tfm_y=TfmType.CLASS, aug_tfms=aug_tfms)\ndatasets = ImageData.get_ds(MatchedFilesDataset, (trn_x,trn_y), test_name, tfms, test = None, path= PATH)\n#datasets = ImageData.get_ds(MatchedFilesDataset, (trn_x,trn_y), (val_x,val_y), tfms, test = test_name, path= PATH)\nmd = ImageData(PATH, datasets, bs, num_workers=16, classes=None)\nmd.path = Path('.')\ndenorm = md.trn_ds.denorm",
      "execution_count": null,
      "outputs": []
    },
    {
      "metadata": {
        "_uuid": "ec17505705b9568a452a02855e158c588ac02c57",
        "scrolled": false,
        "trusted": true,
        "collapsed": true
      },
      "cell_type": "code",
      "source": "x,y = next(iter(md.trn_dl))",
      "execution_count": null,
      "outputs": []
    },
    {
      "metadata": {
        "_uuid": "bc6c6cce1e66ef82f2a231f75051da444ea16589",
        "trusted": true,
        "collapsed": true
      },
      "cell_type": "code",
      "source": "x.shape,y.shape",
      "execution_count": null,
      "outputs": []
    },
    {
      "metadata": {
        "_uuid": "1f84c24e0866bfaedad28de5f224c5eb2ad2bfbc",
        "collapsed": true,
        "trusted": true
      },
      "cell_type": "code",
      "source": "f = resnet34\ncut,lr_cut = model_meta[f]\n\ndef get_base():\n    layers = cut_model(f(True), cut)\n    return nn.Sequential(*layers)\n\ndef dice(pred, targs):\n    pred = (pred>0).float()\n    return 2. * (pred*targs).sum() / (pred+targs).sum()\n\n\nclass StdUpsample (nn.Module):\n    def __init__(self, nin, nout):\n        super().__init__()\n        self.conv = nn.ConvTranspose2d(nin, nout, 2, stride=2)\n        self.bn = nn.BatchNorm2d(nout)\n        \n    def forward(self, x): return self.bn(F.relu(self.conv(x)))\n\nclass Upsample34(nn.Module):\n    def __init__(self, rn):\n        super().__init__()\n        self.rn = rn\n        self.features = nn.Sequential(\n            rn, nn.ReLU(),\n            StdUpsample(512,256),\n            StdUpsample(256,256),\n            StdUpsample(256,256),\n            StdUpsample(256,256),\n            nn.ConvTranspose2d(256, 1, 2, stride=2))\n        \n    def forward(self,x): return self.features(x)[:,0]\n\n\nclass UpsampleModel ():\n    def __init__(self,model,name='upsample'):\n        self.model,self.name = model,name\n\n    def get_layer_groups(self, precompute):\n        lgs = list(split_by_idxs(children(self.model.rn), [lr_cut]))\n        return lgs + [children(self.model.features)[1:]]",
      "execution_count": null,
      "outputs": []
    },
    {
      "metadata": {
        "trusted": true,
        "_uuid": "756620876bdd649503c0802e88c0333a3db93419",
        "collapsed": true
      },
      "cell_type": "code",
      "source": "cache_dir = os.path.expanduser(os.path.join('~', '.torch'))\nif not os.path.exists(cache_dir):\n    os.makedirs(cache_dir)\nmodels_dir = os.path.join(cache_dir, 'models')\nif not os.path.exists(models_dir):\n    os.makedirs(models_dir)\n!cp ../input/resnet34/resnet34.pth /tmp/.torch/models/resnet34-333f7ec4.pth",
      "execution_count": null,
      "outputs": []
    },
    {
      "metadata": {
        "_uuid": "3192f12afaaa29d1cec8c5776f90c036a87caa5a",
        "trusted": true,
        "collapsed": true
      },
      "cell_type": "code",
      "source": "m_base = get_base()",
      "execution_count": null,
      "outputs": []
    },
    {
      "metadata": {
        "_uuid": "b688233cc05b2767e9bad99645c6734d3339f35d",
        "trusted": true,
        "collapsed": true
      },
      "cell_type": "code",
      "source": "m = to_gpu(Upsample34(m_base))\nmodels = UpsampleModel(m)",
      "execution_count": null,
      "outputs": []
    },
    {
      "metadata": {
        "_uuid": "e3c1ba2f8be8ce337c4a8d5698818d86487b2fc1",
        "trusted": true,
        "collapsed": true
      },
      "cell_type": "code",
      "source": "#learn = ConvLearner(md, models) # built my model\nlearn = ConvLearner(md, models) # change the valid set\nlearn.opt_fn=optim.Adam\nlearn.crit=nn.BCEWithLogitsLoss()\nlearn.metrics=[accuracy_thresh(0.5), dice]",
      "execution_count": null,
      "outputs": []
    },
    {
      "metadata": {
        "_uuid": "e2fc3956afa379670da766c5866d16a87a5ba4f9",
        "trusted": true,
        "collapsed": true
      },
      "cell_type": "code",
      "source": "#learn.summary()",
      "execution_count": null,
      "outputs": []
    },
    {
      "metadata": {
        "trusted": true,
        "_uuid": "0d262447d25c6161a7fa8cb8c7a66b0cad4b258e",
        "collapsed": true
      },
      "cell_type": "code",
      "source": "learn.freeze_to(1)\nlearn.lr_find()\nlearn.sched.plot()",
      "execution_count": null,
      "outputs": []
    },
    {
      "metadata": {
        "collapsed": true,
        "trusted": true,
        "_uuid": "05a0865437d972554df467664e806af6018a44e9"
      },
      "cell_type": "code",
      "source": "lr=4e-2\nwd=1e-7\nlrs = np.array([lr/100,lr/10,lr])/2",
      "execution_count": null,
      "outputs": []
    },
    {
      "metadata": {
        "trusted": true,
        "_uuid": "aec420465b8964b93e3bea921360c02fb2942de1",
        "collapsed": true
      },
      "cell_type": "code",
      "source": "learn.fit(lr,1, wds=wd, cycle_len=1,use_clr=(20,8))",
      "execution_count": null,
      "outputs": []
    },
    {
      "metadata": {
        "collapsed": true,
        "trusted": true,
        "_uuid": "d1cc9968868e3a4ff94ed31b4889cde65b963c8d"
      },
      "cell_type": "code",
      "source": "learn.save('tmp')\nlearn.load('tmp')",
      "execution_count": null,
      "outputs": []
    },
    {
      "metadata": {
        "collapsed": true,
        "trusted": true,
        "_uuid": "2ab0b352e1fafebf929a2d96fce3cba706fe7782"
      },
      "cell_type": "code",
      "source": "learn.unfreeze()\nlearn.bn_freeze(True)",
      "execution_count": null,
      "outputs": []
    },
    {
      "metadata": {
        "trusted": true,
        "_uuid": "763942267d2bc2d09954ddf23cf404d601ed4b1b",
        "collapsed": true
      },
      "cell_type": "code",
      "source": "learn.fit(lrs,1,cycle_len=4,use_clr=(20,8))",
      "execution_count": null,
      "outputs": []
    },
    {
      "metadata": {
        "trusted": true,
        "collapsed": true,
        "_uuid": "5a8511ae7777d20683085078c0112a85420a645d"
      },
      "cell_type": "code",
      "source": "preds_test = learn.predict() ",
      "execution_count": null,
      "outputs": []
    },
    {
      "metadata": {
        "collapsed": true,
        "trusted": true,
        "_uuid": "bf321872d2d3c47220c181cf56608b103f3cfcbe"
      },
      "cell_type": "code",
      "source": "def RLenc(img, order='F', format=True):\n    \"\"\"\n    img is binary mask image, shape (r,c)\n    order is down-then-right, i.e. Fortran\n    format determines if the order needs to be preformatted (according to submission rules) or not\n\n    returns run length as an array or string (if format is True)\n    \"\"\"\n    bytes = img.reshape(img.shape[0] * img.shape[1], order=order)\n    runs = []  ## list of run lengths\n    r = 0  ## the current run length\n    pos = 1  ## count starts from 1 per WK\n    for c in bytes:\n        if (c == 0):\n            if r != 0:\n                runs.append((pos, r))\n                pos += r\n                r = 0\n            pos += 1\n        else:\n            r += 1\n\n    # if last run is unsaved (i.e. data ends with 1)\n    if r != 0:\n        runs.append((pos, r))\n        pos += r\n        r = 0\n\n    if format:\n        z = ''\n\n        for rr in runs:\n            z += '{} {} '.format(rr[0], rr[1])\n        return z[:-1]\n    else:\n        return runs",
      "execution_count": null,
      "outputs": []
    },
    {
      "metadata": {
        "trusted": true,
        "_uuid": "597bb1b4ca9620383c30410aaae5185a78fb502a",
        "collapsed": true
      },
      "cell_type": "code",
      "source": "testfile_name = pd.DataFrame({'img':onlyfiles})\ntestfile_name = pd.DataFrame(testfile_name.img.str.split('.',1).tolist(), columns = ['img','png'])",
      "execution_count": null,
      "outputs": []
    },
    {
      "metadata": {
        "collapsed": true,
        "trusted": true,
        "_uuid": "b542a4058405587bc18aa377874a7027b2c72ce1"
      },
      "cell_type": "code",
      "source": "img_size_ori = 101\nimg_size_target = 128\n\ndef downsample(img):\n    if img_size_ori == img_size_target:\n        return img\n    return resize(img, (img_size_ori, img_size_ori), mode='constant', preserve_range=True)",
      "execution_count": null,
      "outputs": []
    },
    {
      "metadata": {
        "trusted": true,
        "_uuid": "9283c57f45d80b98c408eb39de2f95ffdb705807",
        "scrolled": true,
        "collapsed": true
      },
      "cell_type": "code",
      "source": "pred_dict = {idx: RLenc(np.round(downsample(preds_test[i]) > 0.5)) for i, idx in enumerate(tqdm_notebook(testfile_name[\"img\"]))}",
      "execution_count": null,
      "outputs": []
    },
    {
      "metadata": {
        "collapsed": true,
        "trusted": true,
        "_uuid": "c6bc052514680881ca0e58896f4c368a2d5d66cf"
      },
      "cell_type": "code",
      "source": "sub = pd.DataFrame.from_dict(pred_dict,orient='index')\nsub.index.names = ['id']\nsub.columns = ['rle_mask']\nsub.to_csv('submission.csv')",
      "execution_count": null,
      "outputs": []
    }
  ],
  "metadata": {
    "kernelspec": {
      "display_name": "Python 3",
      "language": "python",
      "name": "python3"
    },
    "language_info": {
      "name": "python",
      "version": "3.6.4",
      "mimetype": "text/x-python",
      "codemirror_mode": {
        "name": "ipython",
        "version": 3
      },
      "pygments_lexer": "ipython3",
      "nbconvert_exporter": "python",
      "file_extension": ".py"
    }
  },
  "nbformat": 4,
  "nbformat_minor": 1
}